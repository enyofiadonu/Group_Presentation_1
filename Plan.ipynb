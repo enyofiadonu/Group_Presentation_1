{
 "cells": [
  {
   "cell_type": "markdown",
   "metadata": {},
   "source": [
    " I have created data files with all the team names, players, and games played for the 2019-2020 season:\n",
    " \n",
    "     1. all data in data folder\n",
    "     \n",
    "     2. the are historical data for all the teams\n",
    "     \n",
    "     3.**games_season2019.csv** contians detailed data about each game played\n",
    "     \n",
    "     3. nba_teams and players are readable jsons\n",
    "     **simple_2019season.csv** contains just the teams scores for each game"
   ]
  },
  {
   "cell_type": "markdown",
   "metadata": {},
   "source": [
    "# part one\n",
    "if it is necessary, we could do simple statistical tests to see if there is any correlation between skill and outcome. \n",
    "    \n",
    "    eg: see if there is any correlation between total points scored and total of games won. \n",
    "    null hyp: total points scored has no effect on the total amount of games won\n",
    "    alt hyp: total poits scored does have and effect\n",
    "    \n",
    "    micheal can help us with which stats are important and worth looking at "
   ]
  },
  {
   "cell_type": "markdown",
   "metadata": {},
   "source": [
    "# part two\n",
    "simple statistical analysis to figure out the odds\n",
    "\n",
    "this website has nice, step by step instructions that seem complex enough to be impressive: \n",
    "https://towardsdatascience.com/how-to-improve-sports-betting-odds-step-by-step-guide-in-python-94626b852f45\n",
    "another one on how to calculate point spread:\n",
    "https://www.sportsrec.com/gb-mean-basketball-7313465.html"
   ]
  },
  {
   "cell_type": "markdown",
   "metadata": {},
   "source": [
    "# part three\n",
    "\n",
    "using our crude system, figure out if it is better to bet on the spread"
   ]
  },
  {
   "cell_type": "markdown",
   "metadata": {},
   "source": [
    "# part four\n",
    "leah's basic machine learning idea (if we have time)"
   ]
  },
  {
   "cell_type": "code",
   "execution_count": null,
   "metadata": {},
   "outputs": [],
   "source": []
  }
 ],
 "metadata": {
  "kernelspec": {
   "display_name": "Python 3",
   "language": "python",
   "name": "python3"
  },
  "language_info": {
   "codemirror_mode": {
    "name": "ipython",
    "version": 3
   },
   "file_extension": ".py",
   "mimetype": "text/x-python",
   "name": "python",
   "nbconvert_exporter": "python",
   "pygments_lexer": "ipython3",
   "version": "3.8.5"
  }
 },
 "nbformat": 4,
 "nbformat_minor": 4
}
