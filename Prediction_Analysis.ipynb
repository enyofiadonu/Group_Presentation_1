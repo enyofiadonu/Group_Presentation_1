{
 "cells": [
  {
   "cell_type": "code",
   "execution_count": 652,
   "metadata": {},
   "outputs": [],
   "source": [
    "import pandas as pd\n",
    "import numpy as np\n",
    "from sklearn.metrics import accuracy_score\n",
    "from sklearn.linear_model import Ridge\n",
    "import matplotlib.pyplot as plt"
   ]
  },
  {
   "cell_type": "code",
   "execution_count": 565,
   "metadata": {},
   "outputs": [],
   "source": [
    "season_2020 = pd.read_csv('data/2020_season.txt')"
   ]
  },
  {
   "cell_type": "code",
   "execution_count": 566,
   "metadata": {},
   "outputs": [
    {
     "data": {
      "text/html": [
       "<div>\n",
       "<style scoped>\n",
       "    .dataframe tbody tr th:only-of-type {\n",
       "        vertical-align: middle;\n",
       "    }\n",
       "\n",
       "    .dataframe tbody tr th {\n",
       "        vertical-align: top;\n",
       "    }\n",
       "\n",
       "    .dataframe thead th {\n",
       "        text-align: right;\n",
       "    }\n",
       "</style>\n",
       "<table border=\"1\" class=\"dataframe\">\n",
       "  <thead>\n",
       "    <tr style=\"text-align: right;\">\n",
       "      <th></th>\n",
       "      <th>Date</th>\n",
       "      <th>Visitor Team</th>\n",
       "      <th>Visitor Pts</th>\n",
       "      <th>Home Team</th>\n",
       "      <th>Home Pts</th>\n",
       "    </tr>\n",
       "  </thead>\n",
       "  <tbody>\n",
       "    <tr>\n",
       "      <th>0</th>\n",
       "      <td>Tue Dec 22 2020</td>\n",
       "      <td>Golden State Warriors</td>\n",
       "      <td>99</td>\n",
       "      <td>Brooklyn Nets</td>\n",
       "      <td>125</td>\n",
       "    </tr>\n",
       "    <tr>\n",
       "      <th>1</th>\n",
       "      <td>Tue Dec 22 2020</td>\n",
       "      <td>Los Angeles Clippers</td>\n",
       "      <td>116</td>\n",
       "      <td>Los Angeles Lakers</td>\n",
       "      <td>109</td>\n",
       "    </tr>\n",
       "    <tr>\n",
       "      <th>2</th>\n",
       "      <td>Wed Dec 23 2020</td>\n",
       "      <td>Charlotte Hornets</td>\n",
       "      <td>114</td>\n",
       "      <td>Cleveland Cavaliers</td>\n",
       "      <td>121</td>\n",
       "    </tr>\n",
       "    <tr>\n",
       "      <th>3</th>\n",
       "      <td>Wed Dec 23 2020</td>\n",
       "      <td>New York Knicks</td>\n",
       "      <td>107</td>\n",
       "      <td>Indiana Pacers</td>\n",
       "      <td>121</td>\n",
       "    </tr>\n",
       "    <tr>\n",
       "      <th>4</th>\n",
       "      <td>Wed Dec 23 2020</td>\n",
       "      <td>Miami Heat</td>\n",
       "      <td>107</td>\n",
       "      <td>Orlando Magic</td>\n",
       "      <td>113</td>\n",
       "    </tr>\n",
       "  </tbody>\n",
       "</table>\n",
       "</div>"
      ],
      "text/plain": [
       "              Date           Visitor Team  Visitor Pts            Home Team  \\\n",
       "0  Tue Dec 22 2020  Golden State Warriors           99        Brooklyn Nets   \n",
       "1  Tue Dec 22 2020   Los Angeles Clippers          116   Los Angeles Lakers   \n",
       "2  Wed Dec 23 2020      Charlotte Hornets          114  Cleveland Cavaliers   \n",
       "3  Wed Dec 23 2020        New York Knicks          107       Indiana Pacers   \n",
       "4  Wed Dec 23 2020             Miami Heat          107        Orlando Magic   \n",
       "\n",
       "   Home Pts  \n",
       "0       125  \n",
       "1       109  \n",
       "2       121  \n",
       "3       121  \n",
       "4       113  "
      ]
     },
     "execution_count": 566,
     "metadata": {},
     "output_type": "execute_result"
    }
   ],
   "source": [
    "cleaned_2020 = season_2020.drop(columns = ['Start (ET)','Unnamed: 6','Unnamed: 7','Attend.','Notes'])\n",
    "cleaned_2020 = cleaned_2020.rename(columns={'Visitor/Neutral':'Visitor Team','Home/Neutral':'Home Team','PTS':'Visitor Pts','PTS.1':'Home Pts'})\n",
    "cleaned_2020.head()"
   ]
  },
  {
   "cell_type": "code",
   "execution_count": 567,
   "metadata": {},
   "outputs": [],
   "source": [
    "team_stats = pd.read_csv('data/teams_stats.csv')"
   ]
  },
  {
   "cell_type": "code",
   "execution_count": 568,
   "metadata": {},
   "outputs": [
    {
     "data": {
      "text/html": [
       "<div>\n",
       "<style scoped>\n",
       "    .dataframe tbody tr th:only-of-type {\n",
       "        vertical-align: middle;\n",
       "    }\n",
       "\n",
       "    .dataframe tbody tr th {\n",
       "        vertical-align: top;\n",
       "    }\n",
       "\n",
       "    .dataframe thead th {\n",
       "        text-align: right;\n",
       "    }\n",
       "</style>\n",
       "<table border=\"1\" class=\"dataframe\">\n",
       "  <thead>\n",
       "    <tr style=\"text-align: right;\">\n",
       "      <th></th>\n",
       "      <th>Eastern Conference</th>\n",
       "      <th>W</th>\n",
       "      <th>L</th>\n",
       "      <th>W/L%</th>\n",
       "      <th>GB</th>\n",
       "      <th>PS/G</th>\n",
       "      <th>PA/G</th>\n",
       "      <th>SRS</th>\n",
       "      <th>Western Conference</th>\n",
       "      <th>W.1</th>\n",
       "      <th>L.1</th>\n",
       "      <th>W/L%.1</th>\n",
       "      <th>GB.1</th>\n",
       "      <th>PS/G.1</th>\n",
       "      <th>PA/G.1</th>\n",
       "      <th>SRS.1</th>\n",
       "    </tr>\n",
       "  </thead>\n",
       "  <tbody>\n",
       "    <tr>\n",
       "      <th>0</th>\n",
       "      <td>Milwaukee Bucks</td>\n",
       "      <td>56.0</td>\n",
       "      <td>17.0</td>\n",
       "      <td>0.767</td>\n",
       "      <td>—</td>\n",
       "      <td>118.7</td>\n",
       "      <td>108.6</td>\n",
       "      <td>9.41</td>\n",
       "      <td>Los Angeles Lakers</td>\n",
       "      <td>52.0</td>\n",
       "      <td>19.0</td>\n",
       "      <td>0.732</td>\n",
       "      <td>—</td>\n",
       "      <td>113.4</td>\n",
       "      <td>107.6</td>\n",
       "      <td>6.28</td>\n",
       "    </tr>\n",
       "    <tr>\n",
       "      <th>1</th>\n",
       "      <td>Toronto Raptors</td>\n",
       "      <td>53.0</td>\n",
       "      <td>19.0</td>\n",
       "      <td>0.736</td>\n",
       "      <td>2.5</td>\n",
       "      <td>112.8</td>\n",
       "      <td>106.5</td>\n",
       "      <td>5.97</td>\n",
       "      <td>Los Angeles Clippers</td>\n",
       "      <td>49.0</td>\n",
       "      <td>23.0</td>\n",
       "      <td>0.681</td>\n",
       "      <td>3.5</td>\n",
       "      <td>116.3</td>\n",
       "      <td>109.9</td>\n",
       "      <td>6.66</td>\n",
       "    </tr>\n",
       "    <tr>\n",
       "      <th>2</th>\n",
       "      <td>Boston Celtics</td>\n",
       "      <td>48.0</td>\n",
       "      <td>24.0</td>\n",
       "      <td>0.667</td>\n",
       "      <td>7.5</td>\n",
       "      <td>113.7</td>\n",
       "      <td>107.3</td>\n",
       "      <td>5.83</td>\n",
       "      <td>Denver Nuggets</td>\n",
       "      <td>46.0</td>\n",
       "      <td>27.0</td>\n",
       "      <td>0.630</td>\n",
       "      <td>7</td>\n",
       "      <td>111.3</td>\n",
       "      <td>109.2</td>\n",
       "      <td>2.35</td>\n",
       "    </tr>\n",
       "    <tr>\n",
       "      <th>3</th>\n",
       "      <td>Indiana Pacers</td>\n",
       "      <td>45.0</td>\n",
       "      <td>28.0</td>\n",
       "      <td>0.616</td>\n",
       "      <td>11</td>\n",
       "      <td>109.4</td>\n",
       "      <td>107.5</td>\n",
       "      <td>1.63</td>\n",
       "      <td>Houston Rockets</td>\n",
       "      <td>44.0</td>\n",
       "      <td>28.0</td>\n",
       "      <td>0.611</td>\n",
       "      <td>8.5</td>\n",
       "      <td>117.8</td>\n",
       "      <td>114.8</td>\n",
       "      <td>3.13</td>\n",
       "    </tr>\n",
       "    <tr>\n",
       "      <th>4</th>\n",
       "      <td>Miami Heat</td>\n",
       "      <td>44.0</td>\n",
       "      <td>29.0</td>\n",
       "      <td>0.603</td>\n",
       "      <td>12</td>\n",
       "      <td>112.0</td>\n",
       "      <td>109.1</td>\n",
       "      <td>2.59</td>\n",
       "      <td>Oklahoma City Thunder</td>\n",
       "      <td>44.0</td>\n",
       "      <td>28.0</td>\n",
       "      <td>0.611</td>\n",
       "      <td>8.5</td>\n",
       "      <td>110.4</td>\n",
       "      <td>108.4</td>\n",
       "      <td>2.33</td>\n",
       "    </tr>\n",
       "  </tbody>\n",
       "</table>\n",
       "</div>"
      ],
      "text/plain": [
       "  Eastern Conference     W     L   W/L%   GB   PS/G   PA/G   SRS  \\\n",
       "0    Milwaukee Bucks  56.0  17.0  0.767    —  118.7  108.6  9.41   \n",
       "1    Toronto Raptors  53.0  19.0  0.736  2.5  112.8  106.5  5.97   \n",
       "2     Boston Celtics  48.0  24.0  0.667  7.5  113.7  107.3  5.83   \n",
       "3     Indiana Pacers  45.0  28.0  0.616   11  109.4  107.5  1.63   \n",
       "4         Miami Heat  44.0  29.0  0.603   12  112.0  109.1  2.59   \n",
       "\n",
       "      Western Conference   W.1   L.1  W/L%.1 GB.1  PS/G.1  PA/G.1  SRS.1  \n",
       "0     Los Angeles Lakers  52.0  19.0   0.732    —   113.4   107.6   6.28  \n",
       "1   Los Angeles Clippers  49.0  23.0   0.681  3.5   116.3   109.9   6.66  \n",
       "2         Denver Nuggets  46.0  27.0   0.630    7   111.3   109.2   2.35  \n",
       "3        Houston Rockets  44.0  28.0   0.611  8.5   117.8   114.8   3.13  \n",
       "4  Oklahoma City Thunder  44.0  28.0   0.611  8.5   110.4   108.4   2.33  "
      ]
     },
     "execution_count": 568,
     "metadata": {},
     "output_type": "execute_result"
    }
   ],
   "source": [
    "team_stats = team_stats.dropna(how='all')\n",
    "team_stats.head()"
   ]
  },
  {
   "cell_type": "code",
   "execution_count": 569,
   "metadata": {},
   "outputs": [],
   "source": [
    "team = []\n",
    "odds = []\n",
    "for i in range(len(team_stats.count())-1):\n",
    "    team.append(team_stats.at[i,'Eastern Conference'])\n",
    "    odds.append(team_stats.at[i,'W/L%'])\n",
    "    team.append(team_stats.at[i,'Western Conference'])\n",
    "    odds.append(team_stats.at[i,'W/L%.1'])"
   ]
  },
  {
   "cell_type": "code",
   "execution_count": 570,
   "metadata": {},
   "outputs": [],
   "source": [
    "trad_odd_dict = {\n",
    "    'Team': team,\n",
    "    'Odds': odds\n",
    "}\n",
    "traditions_odds_df = pd.DataFrame(trad_odd_dict)"
   ]
  },
  {
   "cell_type": "code",
   "execution_count": 571,
   "metadata": {},
   "outputs": [
    {
     "data": {
      "text/html": [
       "<div>\n",
       "<style scoped>\n",
       "    .dataframe tbody tr th:only-of-type {\n",
       "        vertical-align: middle;\n",
       "    }\n",
       "\n",
       "    .dataframe tbody tr th {\n",
       "        vertical-align: top;\n",
       "    }\n",
       "\n",
       "    .dataframe thead th {\n",
       "        text-align: right;\n",
       "    }\n",
       "</style>\n",
       "<table border=\"1\" class=\"dataframe\">\n",
       "  <thead>\n",
       "    <tr style=\"text-align: right;\">\n",
       "      <th></th>\n",
       "      <th>Team</th>\n",
       "      <th>Odds</th>\n",
       "    </tr>\n",
       "  </thead>\n",
       "  <tbody>\n",
       "    <tr>\n",
       "      <th>0</th>\n",
       "      <td>Milwaukee Bucks</td>\n",
       "      <td>0.767</td>\n",
       "    </tr>\n",
       "    <tr>\n",
       "      <th>1</th>\n",
       "      <td>Los Angeles Lakers</td>\n",
       "      <td>0.732</td>\n",
       "    </tr>\n",
       "    <tr>\n",
       "      <th>2</th>\n",
       "      <td>Toronto Raptors</td>\n",
       "      <td>0.736</td>\n",
       "    </tr>\n",
       "    <tr>\n",
       "      <th>3</th>\n",
       "      <td>Los Angeles Clippers</td>\n",
       "      <td>0.681</td>\n",
       "    </tr>\n",
       "    <tr>\n",
       "      <th>4</th>\n",
       "      <td>Boston Celtics</td>\n",
       "      <td>0.667</td>\n",
       "    </tr>\n",
       "  </tbody>\n",
       "</table>\n",
       "</div>"
      ],
      "text/plain": [
       "                   Team   Odds\n",
       "0       Milwaukee Bucks  0.767\n",
       "1    Los Angeles Lakers  0.732\n",
       "2       Toronto Raptors  0.736\n",
       "3  Los Angeles Clippers  0.681\n",
       "4        Boston Celtics  0.667"
      ]
     },
     "execution_count": 571,
     "metadata": {},
     "output_type": "execute_result"
    }
   ],
   "source": [
    "traditions_odds_df.head()"
   ]
  },
  {
   "cell_type": "code",
   "execution_count": 572,
   "metadata": {},
   "outputs": [],
   "source": [
    "x = traditions_odds_df.loc[traditions_odds_df['Team'] == 'Milwaukee Bucks','Odds']"
   ]
  },
  {
   "cell_type": "code",
   "execution_count": 573,
   "metadata": {},
   "outputs": [],
   "source": [
    "games = pd.read_csv('data/simple_2019season.csv')"
   ]
  },
  {
   "cell_type": "code",
   "execution_count": 574,
   "metadata": {},
   "outputs": [],
   "source": [
    "trad_analysis = cleaned_2020"
   ]
  },
  {
   "cell_type": "code",
   "execution_count": 575,
   "metadata": {},
   "outputs": [],
   "source": [
    "likely_win = []\n",
    "actual_win = []\n",
    "for i in range(len(trad_analysis.index)):\n",
    "    visitor_team = trad_analysis.at[i,'Visitor Team']\n",
    "    home_team = trad_analysis.at[i,'Home Team']\n",
    "    vis_odds = traditions_odds_df.loc[traditions_odds_df['Team'] == visitor_team,:].reset_index()\n",
    "    home_odds = traditions_odds_df.loc[traditions_odds_df['Team'] == home_team,:].reset_index()\n",
    "    if (vis_odds['Odds'].item() > home_odds['Odds'].item()):\n",
    "        likely_win.append(visitor_team)\n",
    "    elif (home_odds['Odds'].item() > vis_odds['Odds'].item()):\n",
    "        likely_win.append(home_team)\n",
    "    elif (home_odds['Odds'].item() == vis_odds['Odds'].item()):\n",
    "        likely_win.append('Tie')\n",
    "    else:\n",
    "        likely_win.append(' ')\n",
    "    visitor_pts = trad_analysis.at[i,'Visitor Pts']\n",
    "    home_pts = trad_analysis.at[i,'Home Pts']\n",
    "    if (visitor_pts > home_pts):\n",
    "        actual_win.append(visitor_team)\n",
    "    elif (home_pts > visitor_pts):\n",
    "        actual_win.append(home_team)\n",
    "    elif (home_pts == visitor_pts):\n",
    "        actual_win.append('Tie')\n",
    "    else:\n",
    "        actual_win.append(' ')"
   ]
  },
  {
   "cell_type": "code",
   "execution_count": 576,
   "metadata": {},
   "outputs": [],
   "source": [
    "trad_analysis['Likely to Win'] = likely_win"
   ]
  },
  {
   "cell_type": "code",
   "execution_count": 577,
   "metadata": {},
   "outputs": [],
   "source": [
    "trad_analysis['Actual Win'] = actual_win"
   ]
  },
  {
   "cell_type": "code",
   "execution_count": 578,
   "metadata": {},
   "outputs": [],
   "source": [
    "trad_odds_count = 0\n",
    "for i in range(len(trad_analysis.index)):\n",
    "    if (trad_analysis.at[i,'Likely to Win'] == trad_analysis.at[i,'Actual Win']):\n",
    "        trad_odds_count = trad_odds_count + 1"
   ]
  },
  {
   "cell_type": "code",
   "execution_count": 579,
   "metadata": {},
   "outputs": [
    {
     "data": {
      "text/plain": [
       "176"
      ]
     },
     "execution_count": 579,
     "metadata": {},
     "output_type": "execute_result"
    }
   ],
   "source": [
    "trad_odds_count"
   ]
  },
  {
   "cell_type": "markdown",
   "metadata": {},
   "source": [
    "**Ridge Analysis**"
   ]
  },
  {
   "cell_type": "code",
   "execution_count": 583,
   "metadata": {},
   "outputs": [],
   "source": [
    "games_temp = pd.read_csv('data/simple_2019season.csv')"
   ]
  },
  {
   "cell_type": "code",
   "execution_count": 584,
   "metadata": {},
   "outputs": [],
   "source": [
    "games_temp['Pts Difference'] = games_temp['Home Pts'] - games_temp['Visitor Pts']"
   ]
  },
  {
   "cell_type": "code",
   "execution_count": 585,
   "metadata": {},
   "outputs": [],
   "source": [
    "games_temp['Home Win'] = np.where(games_temp['Pts Difference'] > 0,1,0)\n",
    "games_temp['Home Loss'] = np.where(games_temp['Pts Difference'] < 0,1,0)"
   ]
  },
  {
   "cell_type": "code",
   "execution_count": 586,
   "metadata": {},
   "outputs": [],
   "source": [
    "df_visitor = pd.get_dummies(games_temp['Visitor Team'],dtype=np.int64)\n",
    "df_home = pd.get_dummies(games_temp['Home Team'],dtype=np.int64)"
   ]
  },
  {
   "cell_type": "code",
   "execution_count": 587,
   "metadata": {},
   "outputs": [],
   "source": [
    "df_model = df_home.sub(df_visitor)\n",
    "df_model['Pts Difference'] = games_temp['Pts Difference']"
   ]
  },
  {
   "cell_type": "code",
   "execution_count": 588,
   "metadata": {},
   "outputs": [],
   "source": [
    "df_train = df_model"
   ]
  },
  {
   "cell_type": "code",
   "execution_count": 589,
   "metadata": {},
   "outputs": [
    {
     "data": {
      "text/plain": [
       "Ridge(alpha=0.001)"
      ]
     },
     "execution_count": 589,
     "metadata": {},
     "output_type": "execute_result"
    }
   ],
   "source": [
    "lr = Ridge(alpha=0.001)\n",
    "x = df_train.drop(['Pts Difference'], axis=1)\n",
    "y = df_train['Pts Difference']\n",
    "\n",
    "lr.fit(x,y)"
   ]
  },
  {
   "cell_type": "code",
   "execution_count": 590,
   "metadata": {},
   "outputs": [],
   "source": [
    "df_ratings = pd.DataFrame(data={'Team': x.columns,'ratings':lr.coef_})"
   ]
  },
  {
   "cell_type": "code",
   "execution_count": 591,
   "metadata": {},
   "outputs": [
    {
     "data": {
      "text/html": [
       "<div>\n",
       "<style scoped>\n",
       "    .dataframe tbody tr th:only-of-type {\n",
       "        vertical-align: middle;\n",
       "    }\n",
       "\n",
       "    .dataframe tbody tr th {\n",
       "        vertical-align: top;\n",
       "    }\n",
       "\n",
       "    .dataframe thead th {\n",
       "        text-align: right;\n",
       "    }\n",
       "</style>\n",
       "<table border=\"1\" class=\"dataframe\">\n",
       "  <thead>\n",
       "    <tr style=\"text-align: right;\">\n",
       "      <th></th>\n",
       "      <th>Team</th>\n",
       "      <th>ratings</th>\n",
       "    </tr>\n",
       "  </thead>\n",
       "  <tbody>\n",
       "    <tr>\n",
       "      <th>0</th>\n",
       "      <td>Atlanta Hawks</td>\n",
       "      <td>-7.565616</td>\n",
       "    </tr>\n",
       "    <tr>\n",
       "      <th>1</th>\n",
       "      <td>Boston Celtics</td>\n",
       "      <td>6.658404</td>\n",
       "    </tr>\n",
       "    <tr>\n",
       "      <th>2</th>\n",
       "      <td>Brooklyn Nets</td>\n",
       "      <td>-1.492716</td>\n",
       "    </tr>\n",
       "    <tr>\n",
       "      <th>3</th>\n",
       "      <td>Charlotte Hornets</td>\n",
       "      <td>-6.814215</td>\n",
       "    </tr>\n",
       "    <tr>\n",
       "      <th>4</th>\n",
       "      <td>Chicago Bulls</td>\n",
       "      <td>-4.010651</td>\n",
       "    </tr>\n",
       "    <tr>\n",
       "      <th>5</th>\n",
       "      <td>Cleveland Cavaliers</td>\n",
       "      <td>-7.809751</td>\n",
       "    </tr>\n",
       "    <tr>\n",
       "      <th>6</th>\n",
       "      <td>Dallas Mavericks</td>\n",
       "      <td>4.479577</td>\n",
       "    </tr>\n",
       "    <tr>\n",
       "      <th>7</th>\n",
       "      <td>Denver Nuggets</td>\n",
       "      <td>2.678716</td>\n",
       "    </tr>\n",
       "    <tr>\n",
       "      <th>8</th>\n",
       "      <td>Detroit Pistons</td>\n",
       "      <td>-4.287864</td>\n",
       "    </tr>\n",
       "    <tr>\n",
       "      <th>9</th>\n",
       "      <td>Golden State Warriors</td>\n",
       "      <td>-8.016180</td>\n",
       "    </tr>\n",
       "    <tr>\n",
       "      <th>10</th>\n",
       "      <td>Houston Rockets</td>\n",
       "      <td>3.518311</td>\n",
       "    </tr>\n",
       "    <tr>\n",
       "      <th>11</th>\n",
       "      <td>Indiana Pacers</td>\n",
       "      <td>1.392655</td>\n",
       "    </tr>\n",
       "    <tr>\n",
       "      <th>12</th>\n",
       "      <td>Los Angeles Clippers</td>\n",
       "      <td>6.951234</td>\n",
       "    </tr>\n",
       "    <tr>\n",
       "      <th>13</th>\n",
       "      <td>Los Angeles Lakers</td>\n",
       "      <td>7.038249</td>\n",
       "    </tr>\n",
       "    <tr>\n",
       "      <th>14</th>\n",
       "      <td>Memphis Grizzlies</td>\n",
       "      <td>-0.778074</td>\n",
       "    </tr>\n",
       "    <tr>\n",
       "      <th>15</th>\n",
       "      <td>Miami Heat</td>\n",
       "      <td>3.984272</td>\n",
       "    </tr>\n",
       "    <tr>\n",
       "      <th>16</th>\n",
       "      <td>Milwaukee Bucks</td>\n",
       "      <td>8.814894</td>\n",
       "    </tr>\n",
       "    <tr>\n",
       "      <th>17</th>\n",
       "      <td>Minnesota Timberwolves</td>\n",
       "      <td>-3.863030</td>\n",
       "    </tr>\n",
       "    <tr>\n",
       "      <th>18</th>\n",
       "      <td>New Orleans Pelicans</td>\n",
       "      <td>-0.375740</td>\n",
       "    </tr>\n",
       "    <tr>\n",
       "      <th>19</th>\n",
       "      <td>New York Knicks</td>\n",
       "      <td>-6.593899</td>\n",
       "    </tr>\n",
       "    <tr>\n",
       "      <th>20</th>\n",
       "      <td>Oklahoma City Thunder</td>\n",
       "      <td>2.026431</td>\n",
       "    </tr>\n",
       "    <tr>\n",
       "      <th>21</th>\n",
       "      <td>Orlando Magic</td>\n",
       "      <td>-0.639194</td>\n",
       "    </tr>\n",
       "    <tr>\n",
       "      <th>22</th>\n",
       "      <td>Philadelphia 76ers</td>\n",
       "      <td>2.125953</td>\n",
       "    </tr>\n",
       "    <tr>\n",
       "      <th>23</th>\n",
       "      <td>Phoenix Suns</td>\n",
       "      <td>0.587364</td>\n",
       "    </tr>\n",
       "    <tr>\n",
       "      <th>24</th>\n",
       "      <td>Portland Trail Blazers</td>\n",
       "      <td>-0.545190</td>\n",
       "    </tr>\n",
       "    <tr>\n",
       "      <th>25</th>\n",
       "      <td>Sacramento Kings</td>\n",
       "      <td>-1.363087</td>\n",
       "    </tr>\n",
       "    <tr>\n",
       "      <th>26</th>\n",
       "      <td>San Antonio Spurs</td>\n",
       "      <td>-0.401565</td>\n",
       "    </tr>\n",
       "    <tr>\n",
       "      <th>27</th>\n",
       "      <td>Toronto Raptors</td>\n",
       "      <td>6.308169</td>\n",
       "    </tr>\n",
       "    <tr>\n",
       "      <th>28</th>\n",
       "      <td>Utah Jazz</td>\n",
       "      <td>3.064885</td>\n",
       "    </tr>\n",
       "    <tr>\n",
       "      <th>29</th>\n",
       "      <td>Washington Wizards</td>\n",
       "      <td>-5.072344</td>\n",
       "    </tr>\n",
       "  </tbody>\n",
       "</table>\n",
       "</div>"
      ],
      "text/plain": [
       "                      Team   ratings\n",
       "0            Atlanta Hawks -7.565616\n",
       "1           Boston Celtics  6.658404\n",
       "2            Brooklyn Nets -1.492716\n",
       "3        Charlotte Hornets -6.814215\n",
       "4            Chicago Bulls -4.010651\n",
       "5      Cleveland Cavaliers -7.809751\n",
       "6         Dallas Mavericks  4.479577\n",
       "7           Denver Nuggets  2.678716\n",
       "8          Detroit Pistons -4.287864\n",
       "9    Golden State Warriors -8.016180\n",
       "10         Houston Rockets  3.518311\n",
       "11          Indiana Pacers  1.392655\n",
       "12    Los Angeles Clippers  6.951234\n",
       "13      Los Angeles Lakers  7.038249\n",
       "14       Memphis Grizzlies -0.778074\n",
       "15              Miami Heat  3.984272\n",
       "16         Milwaukee Bucks  8.814894\n",
       "17  Minnesota Timberwolves -3.863030\n",
       "18    New Orleans Pelicans -0.375740\n",
       "19         New York Knicks -6.593899\n",
       "20   Oklahoma City Thunder  2.026431\n",
       "21           Orlando Magic -0.639194\n",
       "22      Philadelphia 76ers  2.125953\n",
       "23            Phoenix Suns  0.587364\n",
       "24  Portland Trail Blazers -0.545190\n",
       "25        Sacramento Kings -1.363087\n",
       "26       San Antonio Spurs -0.401565\n",
       "27         Toronto Raptors  6.308169\n",
       "28               Utah Jazz  3.064885\n",
       "29      Washington Wizards -5.072344"
      ]
     },
     "execution_count": 591,
     "metadata": {},
     "output_type": "execute_result"
    }
   ],
   "source": [
    "df_ratings"
   ]
  },
  {
   "cell_type": "code",
   "execution_count": 593,
   "metadata": {},
   "outputs": [
    {
     "data": {
      "text/html": [
       "<div>\n",
       "<style scoped>\n",
       "    .dataframe tbody tr th:only-of-type {\n",
       "        vertical-align: middle;\n",
       "    }\n",
       "\n",
       "    .dataframe tbody tr th {\n",
       "        vertical-align: top;\n",
       "    }\n",
       "\n",
       "    .dataframe thead th {\n",
       "        text-align: right;\n",
       "    }\n",
       "</style>\n",
       "<table border=\"1\" class=\"dataframe\">\n",
       "  <thead>\n",
       "    <tr style=\"text-align: right;\">\n",
       "      <th></th>\n",
       "      <th>Date</th>\n",
       "      <th>Visitor Team</th>\n",
       "      <th>Visitor Pts</th>\n",
       "      <th>Home Team</th>\n",
       "      <th>Home Pts</th>\n",
       "    </tr>\n",
       "  </thead>\n",
       "  <tbody>\n",
       "    <tr>\n",
       "      <th>0</th>\n",
       "      <td>Tue Dec 22 2020</td>\n",
       "      <td>Golden State Warriors</td>\n",
       "      <td>99</td>\n",
       "      <td>Brooklyn Nets</td>\n",
       "      <td>125</td>\n",
       "    </tr>\n",
       "    <tr>\n",
       "      <th>1</th>\n",
       "      <td>Tue Dec 22 2020</td>\n",
       "      <td>Los Angeles Clippers</td>\n",
       "      <td>116</td>\n",
       "      <td>Los Angeles Lakers</td>\n",
       "      <td>109</td>\n",
       "    </tr>\n",
       "    <tr>\n",
       "      <th>2</th>\n",
       "      <td>Wed Dec 23 2020</td>\n",
       "      <td>Charlotte Hornets</td>\n",
       "      <td>114</td>\n",
       "      <td>Cleveland Cavaliers</td>\n",
       "      <td>121</td>\n",
       "    </tr>\n",
       "    <tr>\n",
       "      <th>3</th>\n",
       "      <td>Wed Dec 23 2020</td>\n",
       "      <td>New York Knicks</td>\n",
       "      <td>107</td>\n",
       "      <td>Indiana Pacers</td>\n",
       "      <td>121</td>\n",
       "    </tr>\n",
       "    <tr>\n",
       "      <th>4</th>\n",
       "      <td>Wed Dec 23 2020</td>\n",
       "      <td>Miami Heat</td>\n",
       "      <td>107</td>\n",
       "      <td>Orlando Magic</td>\n",
       "      <td>113</td>\n",
       "    </tr>\n",
       "  </tbody>\n",
       "</table>\n",
       "</div>"
      ],
      "text/plain": [
       "              Date           Visitor Team  Visitor Pts            Home Team  \\\n",
       "0  Tue Dec 22 2020  Golden State Warriors           99        Brooklyn Nets   \n",
       "1  Tue Dec 22 2020   Los Angeles Clippers          116   Los Angeles Lakers   \n",
       "2  Wed Dec 23 2020      Charlotte Hornets          114  Cleveland Cavaliers   \n",
       "3  Wed Dec 23 2020        New York Knicks          107       Indiana Pacers   \n",
       "4  Wed Dec 23 2020             Miami Heat          107        Orlando Magic   \n",
       "\n",
       "   Home Pts  \n",
       "0       125  \n",
       "1       109  \n",
       "2       121  \n",
       "3       121  \n",
       "4       113  "
      ]
     },
     "execution_count": 593,
     "metadata": {},
     "output_type": "execute_result"
    }
   ],
   "source": [
    "ridge_analysis = season_2020.drop(columns = ['Start (ET)','Unnamed: 6','Unnamed: 7','Attend.','Notes'])\n",
    "ridge_analysis = ridge_analysis.rename(columns={'Visitor/Neutral':'Visitor Team','Home/Neutral':'Home Team','PTS':'Visitor Pts','PTS.1':'Home Pts'})\n",
    "ridge_analysis.head()"
   ]
  },
  {
   "cell_type": "code",
   "execution_count": 594,
   "metadata": {},
   "outputs": [],
   "source": [
    "ridge_likely_win = []\n",
    "ridge_actual_win = []\n",
    "for i in range(len(ridge_analysis.index)):\n",
    "    visitor_team = ridge_analysis.at[i,'Visitor Team']\n",
    "    home_team = ridge_analysis.at[i,'Home Team']\n",
    "    vis_odds = df_ratings.loc[df_ratings['Team'] == visitor_team,:].reset_index()\n",
    "    home_odds = df_ratings.loc[df_ratings['Team'] == home_team,:].reset_index()\n",
    "    if (vis_odds['ratings'].item() > home_odds['ratings'].item()):\n",
    "        ridge_likely_win.append(visitor_team)\n",
    "    elif (home_odds['ratings'].item() > vis_odds['ratings'].item()):\n",
    "        ridge_likely_win.append(home_team)\n",
    "    elif (home_odds['ratings'].item() == vis_odds['ratings'].item()):\n",
    "        ridge_likely_win.append('Tie')\n",
    "    else:\n",
    "        ridge_likely_win.append(' ')\n",
    "    visitor_pts = ridge_analysis.at[i,'Visitor Pts']\n",
    "    home_pts = ridge_analysis.at[i,'Home Pts']\n",
    "    if (visitor_pts > home_pts):\n",
    "        ridge_actual_win.append(visitor_team)\n",
    "    elif (home_pts > visitor_pts):\n",
    "        ridge_actual_win.append(home_team)\n",
    "    elif (home_pts == visitor_pts):\n",
    "        ridge_actual_win.append('Tie')\n",
    "    else:\n",
    "        ridge_actual_win.append(' ')"
   ]
  },
  {
   "cell_type": "code",
   "execution_count": 595,
   "metadata": {},
   "outputs": [],
   "source": [
    "ridge_analysis['Likely to Win'] = ridge_likely_win"
   ]
  },
  {
   "cell_type": "code",
   "execution_count": 596,
   "metadata": {},
   "outputs": [],
   "source": [
    "ridge_analysis['Actual Win'] = ridge_actual_win"
   ]
  },
  {
   "cell_type": "code",
   "execution_count": 597,
   "metadata": {},
   "outputs": [],
   "source": [
    "ridge_odds_count = 0\n",
    "for i in range(len(ridge_analysis.index)):\n",
    "    if (ridge_analysis.at[i,'Likely to Win'] == ridge_analysis.at[i,'Actual Win']):\n",
    "        ridge_odds_count = ridge_odds_count + 1"
   ]
  },
  {
   "cell_type": "code",
   "execution_count": 598,
   "metadata": {},
   "outputs": [
    {
     "data": {
      "text/plain": [
       "180"
      ]
     },
     "execution_count": 598,
     "metadata": {},
     "output_type": "execute_result"
    }
   ],
   "source": [
    "ridge_odds_count"
   ]
  },
  {
   "cell_type": "markdown",
   "metadata": {},
   "source": [
    "**Home Team Win Analysis**"
   ]
  },
  {
   "cell_type": "code",
   "execution_count": 599,
   "metadata": {},
   "outputs": [
    {
     "data": {
      "text/html": [
       "<div>\n",
       "<style scoped>\n",
       "    .dataframe tbody tr th:only-of-type {\n",
       "        vertical-align: middle;\n",
       "    }\n",
       "\n",
       "    .dataframe tbody tr th {\n",
       "        vertical-align: top;\n",
       "    }\n",
       "\n",
       "    .dataframe thead th {\n",
       "        text-align: right;\n",
       "    }\n",
       "</style>\n",
       "<table border=\"1\" class=\"dataframe\">\n",
       "  <thead>\n",
       "    <tr style=\"text-align: right;\">\n",
       "      <th></th>\n",
       "      <th>Date</th>\n",
       "      <th>Visitor Team</th>\n",
       "      <th>Visitor Pts</th>\n",
       "      <th>Home Team</th>\n",
       "      <th>Home Pts</th>\n",
       "    </tr>\n",
       "  </thead>\n",
       "  <tbody>\n",
       "    <tr>\n",
       "      <th>0</th>\n",
       "      <td>Tue Dec 22 2020</td>\n",
       "      <td>Golden State Warriors</td>\n",
       "      <td>99</td>\n",
       "      <td>Brooklyn Nets</td>\n",
       "      <td>125</td>\n",
       "    </tr>\n",
       "    <tr>\n",
       "      <th>1</th>\n",
       "      <td>Tue Dec 22 2020</td>\n",
       "      <td>Los Angeles Clippers</td>\n",
       "      <td>116</td>\n",
       "      <td>Los Angeles Lakers</td>\n",
       "      <td>109</td>\n",
       "    </tr>\n",
       "    <tr>\n",
       "      <th>2</th>\n",
       "      <td>Wed Dec 23 2020</td>\n",
       "      <td>Charlotte Hornets</td>\n",
       "      <td>114</td>\n",
       "      <td>Cleveland Cavaliers</td>\n",
       "      <td>121</td>\n",
       "    </tr>\n",
       "    <tr>\n",
       "      <th>3</th>\n",
       "      <td>Wed Dec 23 2020</td>\n",
       "      <td>New York Knicks</td>\n",
       "      <td>107</td>\n",
       "      <td>Indiana Pacers</td>\n",
       "      <td>121</td>\n",
       "    </tr>\n",
       "    <tr>\n",
       "      <th>4</th>\n",
       "      <td>Wed Dec 23 2020</td>\n",
       "      <td>Miami Heat</td>\n",
       "      <td>107</td>\n",
       "      <td>Orlando Magic</td>\n",
       "      <td>113</td>\n",
       "    </tr>\n",
       "    <tr>\n",
       "      <th>...</th>\n",
       "      <td>...</td>\n",
       "      <td>...</td>\n",
       "      <td>...</td>\n",
       "      <td>...</td>\n",
       "      <td>...</td>\n",
       "    </tr>\n",
       "    <tr>\n",
       "      <th>309</th>\n",
       "      <td>Wed Feb 3 2021</td>\n",
       "      <td>Washington Wizards</td>\n",
       "      <td>103</td>\n",
       "      <td>Miami Heat</td>\n",
       "      <td>100</td>\n",
       "    </tr>\n",
       "    <tr>\n",
       "      <th>310</th>\n",
       "      <td>Wed Feb 3 2021</td>\n",
       "      <td>Houston Rockets</td>\n",
       "      <td>87</td>\n",
       "      <td>Oklahoma City Thunder</td>\n",
       "      <td>104</td>\n",
       "    </tr>\n",
       "    <tr>\n",
       "      <th>311</th>\n",
       "      <td>Wed Feb 3 2021</td>\n",
       "      <td>Minnesota Timberwolves</td>\n",
       "      <td>108</td>\n",
       "      <td>San Antonio Spurs</td>\n",
       "      <td>111</td>\n",
       "    </tr>\n",
       "    <tr>\n",
       "      <th>312</th>\n",
       "      <td>Wed Feb 3 2021</td>\n",
       "      <td>Phoenix Suns</td>\n",
       "      <td>101</td>\n",
       "      <td>New Orleans Pelicans</td>\n",
       "      <td>123</td>\n",
       "    </tr>\n",
       "    <tr>\n",
       "      <th>313</th>\n",
       "      <td>Wed Feb 3 2021</td>\n",
       "      <td>Boston Celtics</td>\n",
       "      <td>111</td>\n",
       "      <td>Sacramento Kings</td>\n",
       "      <td>116</td>\n",
       "    </tr>\n",
       "  </tbody>\n",
       "</table>\n",
       "<p>314 rows × 5 columns</p>\n",
       "</div>"
      ],
      "text/plain": [
       "                Date            Visitor Team  Visitor Pts  \\\n",
       "0    Tue Dec 22 2020   Golden State Warriors           99   \n",
       "1    Tue Dec 22 2020    Los Angeles Clippers          116   \n",
       "2    Wed Dec 23 2020       Charlotte Hornets          114   \n",
       "3    Wed Dec 23 2020         New York Knicks          107   \n",
       "4    Wed Dec 23 2020              Miami Heat          107   \n",
       "..               ...                     ...          ...   \n",
       "309   Wed Feb 3 2021      Washington Wizards          103   \n",
       "310   Wed Feb 3 2021         Houston Rockets           87   \n",
       "311   Wed Feb 3 2021  Minnesota Timberwolves          108   \n",
       "312   Wed Feb 3 2021            Phoenix Suns          101   \n",
       "313   Wed Feb 3 2021          Boston Celtics          111   \n",
       "\n",
       "                 Home Team  Home Pts  \n",
       "0            Brooklyn Nets       125  \n",
       "1       Los Angeles Lakers       109  \n",
       "2      Cleveland Cavaliers       121  \n",
       "3           Indiana Pacers       121  \n",
       "4            Orlando Magic       113  \n",
       "..                     ...       ...  \n",
       "309             Miami Heat       100  \n",
       "310  Oklahoma City Thunder       104  \n",
       "311      San Antonio Spurs       111  \n",
       "312   New Orleans Pelicans       123  \n",
       "313       Sacramento Kings       116  \n",
       "\n",
       "[314 rows x 5 columns]"
      ]
     },
     "execution_count": 599,
     "metadata": {},
     "output_type": "execute_result"
    }
   ],
   "source": [
    "home_team_analysis = season_2020.drop(columns = ['Start (ET)','Unnamed: 6','Unnamed: 7','Attend.','Notes'])\n",
    "home_team_analysis = home_team_analysis.rename(columns={'Visitor/Neutral':'Visitor Team','Home/Neutral':'Home Team','PTS':'Visitor Pts','PTS.1':'Home Pts'})\n",
    "home_team_analysis"
   ]
  },
  {
   "cell_type": "code",
   "execution_count": 600,
   "metadata": {},
   "outputs": [],
   "source": [
    "home_team_analysis['Likely to Win'] = home_team_analysis['Home Team']"
   ]
  },
  {
   "cell_type": "code",
   "execution_count": 601,
   "metadata": {},
   "outputs": [],
   "source": [
    "home_team_analysis['Actual Win'] = ridge_analysis['Actual Win']"
   ]
  },
  {
   "cell_type": "code",
   "execution_count": 602,
   "metadata": {},
   "outputs": [],
   "source": [
    "ht_odds_count = 0\n",
    "for i in range(len(home_team_analysis.index)):\n",
    "    if (home_team_analysis.at[i,'Likely to Win'] == home_team_analysis.at[i,'Actual Win']):\n",
    "        ht_odds_count = ht_odds_count + 1"
   ]
  },
  {
   "cell_type": "code",
   "execution_count": 603,
   "metadata": {},
   "outputs": [
    {
     "data": {
      "text/plain": [
       "162"
      ]
     },
     "execution_count": 603,
     "metadata": {},
     "output_type": "execute_result"
    }
   ],
   "source": [
    "ht_odds_count"
   ]
  },
  {
   "cell_type": "markdown",
   "metadata": {},
   "source": [
    "**Goal difference with home advantage**"
   ]
  },
  {
   "cell_type": "code",
   "execution_count": 605,
   "metadata": {},
   "outputs": [
    {
     "data": {
      "text/html": [
       "<div>\n",
       "<style scoped>\n",
       "    .dataframe tbody tr th:only-of-type {\n",
       "        vertical-align: middle;\n",
       "    }\n",
       "\n",
       "    .dataframe tbody tr th {\n",
       "        vertical-align: top;\n",
       "    }\n",
       "\n",
       "    .dataframe thead th {\n",
       "        text-align: right;\n",
       "    }\n",
       "</style>\n",
       "<table border=\"1\" class=\"dataframe\">\n",
       "  <thead>\n",
       "    <tr style=\"text-align: right;\">\n",
       "      <th></th>\n",
       "      <th>Date</th>\n",
       "      <th>Visitor Team</th>\n",
       "      <th>Visitor Pts</th>\n",
       "      <th>Home Team</th>\n",
       "      <th>Home Pts</th>\n",
       "    </tr>\n",
       "  </thead>\n",
       "  <tbody>\n",
       "    <tr>\n",
       "      <th>0</th>\n",
       "      <td>Tue Dec 22 2020</td>\n",
       "      <td>Golden State Warriors</td>\n",
       "      <td>99</td>\n",
       "      <td>Brooklyn Nets</td>\n",
       "      <td>125</td>\n",
       "    </tr>\n",
       "    <tr>\n",
       "      <th>1</th>\n",
       "      <td>Tue Dec 22 2020</td>\n",
       "      <td>Los Angeles Clippers</td>\n",
       "      <td>116</td>\n",
       "      <td>Los Angeles Lakers</td>\n",
       "      <td>109</td>\n",
       "    </tr>\n",
       "    <tr>\n",
       "      <th>2</th>\n",
       "      <td>Wed Dec 23 2020</td>\n",
       "      <td>Charlotte Hornets</td>\n",
       "      <td>114</td>\n",
       "      <td>Cleveland Cavaliers</td>\n",
       "      <td>121</td>\n",
       "    </tr>\n",
       "    <tr>\n",
       "      <th>3</th>\n",
       "      <td>Wed Dec 23 2020</td>\n",
       "      <td>New York Knicks</td>\n",
       "      <td>107</td>\n",
       "      <td>Indiana Pacers</td>\n",
       "      <td>121</td>\n",
       "    </tr>\n",
       "    <tr>\n",
       "      <th>4</th>\n",
       "      <td>Wed Dec 23 2020</td>\n",
       "      <td>Miami Heat</td>\n",
       "      <td>107</td>\n",
       "      <td>Orlando Magic</td>\n",
       "      <td>113</td>\n",
       "    </tr>\n",
       "  </tbody>\n",
       "</table>\n",
       "</div>"
      ],
      "text/plain": [
       "              Date           Visitor Team  Visitor Pts            Home Team  \\\n",
       "0  Tue Dec 22 2020  Golden State Warriors           99        Brooklyn Nets   \n",
       "1  Tue Dec 22 2020   Los Angeles Clippers          116   Los Angeles Lakers   \n",
       "2  Wed Dec 23 2020      Charlotte Hornets          114  Cleveland Cavaliers   \n",
       "3  Wed Dec 23 2020        New York Knicks          107       Indiana Pacers   \n",
       "4  Wed Dec 23 2020             Miami Heat          107        Orlando Magic   \n",
       "\n",
       "   Home Pts  \n",
       "0       125  \n",
       "1       109  \n",
       "2       121  \n",
       "3       121  \n",
       "4       113  "
      ]
     },
     "execution_count": 605,
     "metadata": {},
     "output_type": "execute_result"
    }
   ],
   "source": [
    "gdha_analysis = season_2020.drop(columns = ['Start (ET)','Unnamed: 6','Unnamed: 7','Attend.','Notes'])\n",
    "gdha_analysis = gdha_analysis.rename(columns={'Visitor/Neutral':'Visitor Team','Home/Neutral':'Home Team','PTS':'Visitor Pts','PTS.1':'Home Pts'})\n",
    "gdha_analysis.head()"
   ]
  },
  {
   "cell_type": "code",
   "execution_count": 606,
   "metadata": {},
   "outputs": [],
   "source": [
    "#total games played by each team\n",
    "visitor_ct = games['Visitor Team'].value_counts().to_frame()\n",
    "home_ct = games['Home Team'].value_counts().to_frame()"
   ]
  },
  {
   "cell_type": "code",
   "execution_count": 607,
   "metadata": {},
   "outputs": [],
   "source": [
    "visitor_ct = visitor_ct.rename(columns = {'Visitor Team':'Games'})\n",
    "home_ct = home_ct.rename(columns = {'Home Team':'Games'})"
   ]
  },
  {
   "cell_type": "code",
   "execution_count": 608,
   "metadata": {},
   "outputs": [],
   "source": [
    "visitor_ct['Team'] = visitor_ct.index"
   ]
  },
  {
   "cell_type": "code",
   "execution_count": 609,
   "metadata": {},
   "outputs": [],
   "source": [
    "home_ct['Team'] = home_ct.index"
   ]
  },
  {
   "cell_type": "code",
   "execution_count": 610,
   "metadata": {},
   "outputs": [],
   "source": [
    "game_ct = visitor_ct.merge(home_ct,on='Team')"
   ]
  },
  {
   "cell_type": "code",
   "execution_count": 611,
   "metadata": {},
   "outputs": [],
   "source": [
    "game_ct['Total'] = game_ct['Games_x']+game_ct['Games_y']"
   ]
  },
  {
   "cell_type": "code",
   "execution_count": 612,
   "metadata": {},
   "outputs": [
    {
     "data": {
      "text/html": [
       "<div>\n",
       "<style scoped>\n",
       "    .dataframe tbody tr th:only-of-type {\n",
       "        vertical-align: middle;\n",
       "    }\n",
       "\n",
       "    .dataframe tbody tr th {\n",
       "        vertical-align: top;\n",
       "    }\n",
       "\n",
       "    .dataframe thead th {\n",
       "        text-align: right;\n",
       "    }\n",
       "</style>\n",
       "<table border=\"1\" class=\"dataframe\">\n",
       "  <thead>\n",
       "    <tr style=\"text-align: right;\">\n",
       "      <th></th>\n",
       "      <th>Team</th>\n",
       "      <th>Total</th>\n",
       "    </tr>\n",
       "  </thead>\n",
       "  <tbody>\n",
       "    <tr>\n",
       "      <th>0</th>\n",
       "      <td>Miami Heat</td>\n",
       "      <td>94</td>\n",
       "    </tr>\n",
       "    <tr>\n",
       "      <th>1</th>\n",
       "      <td>Denver Nuggets</td>\n",
       "      <td>92</td>\n",
       "    </tr>\n",
       "    <tr>\n",
       "      <th>2</th>\n",
       "      <td>Boston Celtics</td>\n",
       "      <td>89</td>\n",
       "    </tr>\n",
       "    <tr>\n",
       "      <th>3</th>\n",
       "      <td>Los Angeles Lakers</td>\n",
       "      <td>92</td>\n",
       "    </tr>\n",
       "    <tr>\n",
       "      <th>4</th>\n",
       "      <td>Houston Rockets</td>\n",
       "      <td>84</td>\n",
       "    </tr>\n",
       "    <tr>\n",
       "      <th>5</th>\n",
       "      <td>Milwaukee Bucks</td>\n",
       "      <td>83</td>\n",
       "    </tr>\n",
       "    <tr>\n",
       "      <th>6</th>\n",
       "      <td>Los Angeles Clippers</td>\n",
       "      <td>85</td>\n",
       "    </tr>\n",
       "    <tr>\n",
       "      <th>7</th>\n",
       "      <td>Toronto Raptors</td>\n",
       "      <td>83</td>\n",
       "    </tr>\n",
       "    <tr>\n",
       "      <th>8</th>\n",
       "      <td>Orlando Magic</td>\n",
       "      <td>78</td>\n",
       "    </tr>\n",
       "    <tr>\n",
       "      <th>9</th>\n",
       "      <td>Utah Jazz</td>\n",
       "      <td>79</td>\n",
       "    </tr>\n",
       "    <tr>\n",
       "      <th>10</th>\n",
       "      <td>Portland Trail Blazers</td>\n",
       "      <td>80</td>\n",
       "    </tr>\n",
       "    <tr>\n",
       "      <th>11</th>\n",
       "      <td>Dallas Mavericks</td>\n",
       "      <td>81</td>\n",
       "    </tr>\n",
       "    <tr>\n",
       "      <th>12</th>\n",
       "      <td>Philadelphia 76ers</td>\n",
       "      <td>77</td>\n",
       "    </tr>\n",
       "    <tr>\n",
       "      <th>13</th>\n",
       "      <td>Indiana Pacers</td>\n",
       "      <td>77</td>\n",
       "    </tr>\n",
       "    <tr>\n",
       "      <th>14</th>\n",
       "      <td>Oklahoma City Thunder</td>\n",
       "      <td>79</td>\n",
       "    </tr>\n",
       "    <tr>\n",
       "      <th>15</th>\n",
       "      <td>Brooklyn Nets</td>\n",
       "      <td>76</td>\n",
       "    </tr>\n",
       "    <tr>\n",
       "      <th>16</th>\n",
       "      <td>San Antonio Spurs</td>\n",
       "      <td>71</td>\n",
       "    </tr>\n",
       "    <tr>\n",
       "      <th>17</th>\n",
       "      <td>Memphis Grizzlies</td>\n",
       "      <td>74</td>\n",
       "    </tr>\n",
       "    <tr>\n",
       "      <th>18</th>\n",
       "      <td>Sacramento Kings</td>\n",
       "      <td>72</td>\n",
       "    </tr>\n",
       "    <tr>\n",
       "      <th>19</th>\n",
       "      <td>New Orleans Pelicans</td>\n",
       "      <td>72</td>\n",
       "    </tr>\n",
       "    <tr>\n",
       "      <th>20</th>\n",
       "      <td>Washington Wizards</td>\n",
       "      <td>72</td>\n",
       "    </tr>\n",
       "    <tr>\n",
       "      <th>21</th>\n",
       "      <td>Charlotte Hornets</td>\n",
       "      <td>65</td>\n",
       "    </tr>\n",
       "    <tr>\n",
       "      <th>22</th>\n",
       "      <td>Phoenix Suns</td>\n",
       "      <td>73</td>\n",
       "    </tr>\n",
       "    <tr>\n",
       "      <th>23</th>\n",
       "      <td>New York Knicks</td>\n",
       "      <td>66</td>\n",
       "    </tr>\n",
       "    <tr>\n",
       "      <th>24</th>\n",
       "      <td>Atlanta Hawks</td>\n",
       "      <td>67</td>\n",
       "    </tr>\n",
       "    <tr>\n",
       "      <th>25</th>\n",
       "      <td>Detroit Pistons</td>\n",
       "      <td>66</td>\n",
       "    </tr>\n",
       "    <tr>\n",
       "      <th>26</th>\n",
       "      <td>Minnesota Timberwolves</td>\n",
       "      <td>64</td>\n",
       "    </tr>\n",
       "    <tr>\n",
       "      <th>27</th>\n",
       "      <td>Golden State Warriors</td>\n",
       "      <td>65</td>\n",
       "    </tr>\n",
       "    <tr>\n",
       "      <th>28</th>\n",
       "      <td>Chicago Bulls</td>\n",
       "      <td>65</td>\n",
       "    </tr>\n",
       "    <tr>\n",
       "      <th>29</th>\n",
       "      <td>Cleveland Cavaliers</td>\n",
       "      <td>65</td>\n",
       "    </tr>\n",
       "  </tbody>\n",
       "</table>\n",
       "</div>"
      ],
      "text/plain": [
       "                      Team  Total\n",
       "0               Miami Heat     94\n",
       "1           Denver Nuggets     92\n",
       "2           Boston Celtics     89\n",
       "3       Los Angeles Lakers     92\n",
       "4          Houston Rockets     84\n",
       "5          Milwaukee Bucks     83\n",
       "6     Los Angeles Clippers     85\n",
       "7          Toronto Raptors     83\n",
       "8            Orlando Magic     78\n",
       "9                Utah Jazz     79\n",
       "10  Portland Trail Blazers     80\n",
       "11        Dallas Mavericks     81\n",
       "12      Philadelphia 76ers     77\n",
       "13          Indiana Pacers     77\n",
       "14   Oklahoma City Thunder     79\n",
       "15           Brooklyn Nets     76\n",
       "16       San Antonio Spurs     71\n",
       "17       Memphis Grizzlies     74\n",
       "18        Sacramento Kings     72\n",
       "19    New Orleans Pelicans     72\n",
       "20      Washington Wizards     72\n",
       "21       Charlotte Hornets     65\n",
       "22            Phoenix Suns     73\n",
       "23         New York Knicks     66\n",
       "24           Atlanta Hawks     67\n",
       "25         Detroit Pistons     66\n",
       "26  Minnesota Timberwolves     64\n",
       "27   Golden State Warriors     65\n",
       "28           Chicago Bulls     65\n",
       "29     Cleveland Cavaliers     65"
      ]
     },
     "execution_count": 612,
     "metadata": {},
     "output_type": "execute_result"
    }
   ],
   "source": [
    "game_ct = game_ct.drop(columns=['Games_x','Games_y'])\n",
    "game_ct"
   ]
  },
  {
   "cell_type": "code",
   "execution_count": 613,
   "metadata": {},
   "outputs": [],
   "source": [
    "scored_pts = []\n",
    "allowed_pts = []\n",
    "for i in range(len(team)):\n",
    "    temp = team[i]\n",
    "    spts = 0\n",
    "    apts = 0\n",
    "    for j in range(len(games.index)):\n",
    "        if (games.at[j,'Visitor Team'] == temp):\n",
    "            spts = spts+(games.at[j,'Visitor Pts'])\n",
    "            apts = apts+(games.at[j,'Home Pts'])\n",
    "        elif (games.at[j,'Home Team'] == temp):\n",
    "            spts = spts+(games.at[j,'Home Pts'])\n",
    "            apts = apts+(games.at[j,'Visitor Pts'])\n",
    "    scored_pts.append(spts)\n",
    "    allowed_pts.append(apts)"
   ]
  },
  {
   "cell_type": "code",
   "execution_count": 614,
   "metadata": {},
   "outputs": [],
   "source": [
    "game_ct['Scored Pts'] = scored_pts\n",
    "game_ct['Allowed_Pts'] = allowed_pts"
   ]
  },
  {
   "cell_type": "code",
   "execution_count": 615,
   "metadata": {},
   "outputs": [],
   "source": [
    "game_ct['Team Goal Difference'] = (game_ct['Scored Pts']-game_ct['Allowed_Pts'])/game_ct['Total']"
   ]
  },
  {
   "cell_type": "code",
   "execution_count": 616,
   "metadata": {},
   "outputs": [
    {
     "data": {
      "text/html": [
       "<div>\n",
       "<style scoped>\n",
       "    .dataframe tbody tr th:only-of-type {\n",
       "        vertical-align: middle;\n",
       "    }\n",
       "\n",
       "    .dataframe tbody tr th {\n",
       "        vertical-align: top;\n",
       "    }\n",
       "\n",
       "    .dataframe thead th {\n",
       "        text-align: right;\n",
       "    }\n",
       "</style>\n",
       "<table border=\"1\" class=\"dataframe\">\n",
       "  <thead>\n",
       "    <tr style=\"text-align: right;\">\n",
       "      <th></th>\n",
       "      <th>Team</th>\n",
       "      <th>Total</th>\n",
       "      <th>Scored Pts</th>\n",
       "      <th>Allowed_Pts</th>\n",
       "      <th>Team Goal Difference</th>\n",
       "    </tr>\n",
       "  </thead>\n",
       "  <tbody>\n",
       "    <tr>\n",
       "      <th>0</th>\n",
       "      <td>Miami Heat</td>\n",
       "      <td>94</td>\n",
       "      <td>9774</td>\n",
       "      <td>9026</td>\n",
       "      <td>7.957447</td>\n",
       "    </tr>\n",
       "    <tr>\n",
       "      <th>1</th>\n",
       "      <td>Denver Nuggets</td>\n",
       "      <td>92</td>\n",
       "      <td>10423</td>\n",
       "      <td>9868</td>\n",
       "      <td>6.032609</td>\n",
       "    </tr>\n",
       "    <tr>\n",
       "      <th>2</th>\n",
       "      <td>Boston Celtics</td>\n",
       "      <td>89</td>\n",
       "      <td>9321</td>\n",
       "      <td>8827</td>\n",
       "      <td>5.550562</td>\n",
       "    </tr>\n",
       "    <tr>\n",
       "      <th>3</th>\n",
       "      <td>Los Angeles Lakers</td>\n",
       "      <td>92</td>\n",
       "      <td>9859</td>\n",
       "      <td>9340</td>\n",
       "      <td>5.641304</td>\n",
       "    </tr>\n",
       "    <tr>\n",
       "      <th>4</th>\n",
       "      <td>Houston Rockets</td>\n",
       "      <td>84</td>\n",
       "      <td>10042</td>\n",
       "      <td>9503</td>\n",
       "      <td>6.416667</td>\n",
       "    </tr>\n",
       "  </tbody>\n",
       "</table>\n",
       "</div>"
      ],
      "text/plain": [
       "                 Team  Total  Scored Pts  Allowed_Pts  Team Goal Difference\n",
       "0          Miami Heat     94        9774         9026              7.957447\n",
       "1      Denver Nuggets     92       10423         9868              6.032609\n",
       "2      Boston Celtics     89        9321         8827              5.550562\n",
       "3  Los Angeles Lakers     92        9859         9340              5.641304\n",
       "4     Houston Rockets     84       10042         9503              6.416667"
      ]
     },
     "execution_count": 616,
     "metadata": {},
     "output_type": "execute_result"
    }
   ],
   "source": [
    "game_ct.head()"
   ]
  },
  {
   "cell_type": "code",
   "execution_count": 617,
   "metadata": {},
   "outputs": [],
   "source": [
    "#home advantage goal difference \n",
    "hagd = (games['Home Pts'].sum() - games['Visitor Pts'].sum())/games['Date'].count()"
   ]
  },
  {
   "cell_type": "code",
   "execution_count": 618,
   "metadata": {},
   "outputs": [],
   "source": [
    "margin = []\n",
    "gdha_likely_win = []\n",
    "for i in range(len(gdha_analysis.index)):\n",
    "    vn = gdha_analysis.at[i,'Visitor Team']\n",
    "    v_hold = game_ct['Team Goal Difference'][game_ct['Team'] == vn].to_frame()\n",
    "    vptsd = v_hold['Team Goal Difference'].item()\n",
    "    hn = gdha_analysis.at[i,'Home Team']\n",
    "    h_hold= game_ct['Team Goal Difference'][game_ct['Team'] == hn].to_frame()\n",
    "    hptsd = h_hold['Team Goal Difference'].item()\n",
    "    margin_h = (vptsd-hptsd)/hagd\n",
    "    margin.append(margin_h)\n",
    "    if (margin_h > 0):\n",
    "        gdha_likely_win.append(vn)\n",
    "    elif (margin_h < 0):\n",
    "        gdha_likely_win.append(hn)"
   ]
  },
  {
   "cell_type": "code",
   "execution_count": 619,
   "metadata": {},
   "outputs": [],
   "source": [
    "gdha_analysis['Likely to Win'] = gdha_likely_win"
   ]
  },
  {
   "cell_type": "code",
   "execution_count": 620,
   "metadata": {},
   "outputs": [],
   "source": [
    "gdha_analysis['Margin'] = margin"
   ]
  },
  {
   "cell_type": "code",
   "execution_count": 621,
   "metadata": {},
   "outputs": [],
   "source": [
    "gdha_analysis['Actual Win'] = ridge_analysis['Actual Win'] "
   ]
  },
  {
   "cell_type": "code",
   "execution_count": 622,
   "metadata": {},
   "outputs": [
    {
     "data": {
      "text/html": [
       "<div>\n",
       "<style scoped>\n",
       "    .dataframe tbody tr th:only-of-type {\n",
       "        vertical-align: middle;\n",
       "    }\n",
       "\n",
       "    .dataframe tbody tr th {\n",
       "        vertical-align: top;\n",
       "    }\n",
       "\n",
       "    .dataframe thead th {\n",
       "        text-align: right;\n",
       "    }\n",
       "</style>\n",
       "<table border=\"1\" class=\"dataframe\">\n",
       "  <thead>\n",
       "    <tr style=\"text-align: right;\">\n",
       "      <th></th>\n",
       "      <th>Date</th>\n",
       "      <th>Visitor Team</th>\n",
       "      <th>Visitor Pts</th>\n",
       "      <th>Home Team</th>\n",
       "      <th>Home Pts</th>\n",
       "      <th>Likely to Win</th>\n",
       "      <th>Margin</th>\n",
       "      <th>Actual Win</th>\n",
       "    </tr>\n",
       "  </thead>\n",
       "  <tbody>\n",
       "    <tr>\n",
       "      <th>0</th>\n",
       "      <td>Tue Dec 22 2020</td>\n",
       "      <td>Golden State Warriors</td>\n",
       "      <td>99</td>\n",
       "      <td>Brooklyn Nets</td>\n",
       "      <td>125</td>\n",
       "      <td>Brooklyn Nets</td>\n",
       "      <td>-1.203790</td>\n",
       "      <td>Brooklyn Nets</td>\n",
       "    </tr>\n",
       "    <tr>\n",
       "      <th>1</th>\n",
       "      <td>Tue Dec 22 2020</td>\n",
       "      <td>Los Angeles Clippers</td>\n",
       "      <td>116</td>\n",
       "      <td>Los Angeles Lakers</td>\n",
       "      <td>109</td>\n",
       "      <td>Los Angeles Lakers</td>\n",
       "      <td>-2.172368</td>\n",
       "      <td>Los Angeles Clippers</td>\n",
       "    </tr>\n",
       "    <tr>\n",
       "      <th>2</th>\n",
       "      <td>Wed Dec 23 2020</td>\n",
       "      <td>Charlotte Hornets</td>\n",
       "      <td>114</td>\n",
       "      <td>Cleveland Cavaliers</td>\n",
       "      <td>121</td>\n",
       "      <td>Charlotte Hornets</td>\n",
       "      <td>3.655018</td>\n",
       "      <td>Cleveland Cavaliers</td>\n",
       "    </tr>\n",
       "    <tr>\n",
       "      <th>3</th>\n",
       "      <td>Wed Dec 23 2020</td>\n",
       "      <td>New York Knicks</td>\n",
       "      <td>107</td>\n",
       "      <td>Indiana Pacers</td>\n",
       "      <td>121</td>\n",
       "      <td>Indiana Pacers</td>\n",
       "      <td>-3.069566</td>\n",
       "      <td>Indiana Pacers</td>\n",
       "    </tr>\n",
       "    <tr>\n",
       "      <th>4</th>\n",
       "      <td>Wed Dec 23 2020</td>\n",
       "      <td>Miami Heat</td>\n",
       "      <td>107</td>\n",
       "      <td>Orlando Magic</td>\n",
       "      <td>113</td>\n",
       "      <td>Miami Heat</td>\n",
       "      <td>2.274572</td>\n",
       "      <td>Orlando Magic</td>\n",
       "    </tr>\n",
       "  </tbody>\n",
       "</table>\n",
       "</div>"
      ],
      "text/plain": [
       "              Date           Visitor Team  Visitor Pts            Home Team  \\\n",
       "0  Tue Dec 22 2020  Golden State Warriors           99        Brooklyn Nets   \n",
       "1  Tue Dec 22 2020   Los Angeles Clippers          116   Los Angeles Lakers   \n",
       "2  Wed Dec 23 2020      Charlotte Hornets          114  Cleveland Cavaliers   \n",
       "3  Wed Dec 23 2020        New York Knicks          107       Indiana Pacers   \n",
       "4  Wed Dec 23 2020             Miami Heat          107        Orlando Magic   \n",
       "\n",
       "   Home Pts       Likely to Win    Margin            Actual Win  \n",
       "0       125       Brooklyn Nets -1.203790         Brooklyn Nets  \n",
       "1       109  Los Angeles Lakers -2.172368  Los Angeles Clippers  \n",
       "2       121   Charlotte Hornets  3.655018   Cleveland Cavaliers  \n",
       "3       121      Indiana Pacers -3.069566        Indiana Pacers  \n",
       "4       113          Miami Heat  2.274572         Orlando Magic  "
      ]
     },
     "execution_count": 622,
     "metadata": {},
     "output_type": "execute_result"
    }
   ],
   "source": [
    "gdha_analysis.head()"
   ]
  },
  {
   "cell_type": "code",
   "execution_count": 623,
   "metadata": {},
   "outputs": [],
   "source": [
    "gdha_odds_count = 0\n",
    "for i in range(len(gdha_analysis.index)):\n",
    "    if (gdha_analysis.at[i,'Likely to Win'] == gdha_analysis.at[i,'Actual Win']):\n",
    "        gdha_odds_count = gdha_odds_count + 1"
   ]
  },
  {
   "cell_type": "code",
   "execution_count": 624,
   "metadata": {},
   "outputs": [
    {
     "data": {
      "text/plain": [
       "166"
      ]
     },
     "execution_count": 624,
     "metadata": {},
     "output_type": "execute_result"
    }
   ],
   "source": [
    "gdha_odds_count"
   ]
  },
  {
   "cell_type": "code",
   "execution_count": 625,
   "metadata": {},
   "outputs": [],
   "source": [
    "odds_dict = {\n",
    "    'Win-Loss%' : trad_odds_count,\n",
    "    'Home Team Win': ht_odds_count,\n",
    "    'Goal Difference with Home Advantage': gdha_odds_count,\n",
    "    'Ridge Regression': ridge_odds_count\n",
    "}"
   ]
  },
  {
   "cell_type": "code",
   "execution_count": 626,
   "metadata": {},
   "outputs": [],
   "source": [
    "odds_df = pd.DataFrame(odds_dict, index=['# of Correctly Predicted Games'])"
   ]
  },
  {
   "cell_type": "code",
   "execution_count": 627,
   "metadata": {},
   "outputs": [],
   "source": [
    "odds = odds_df.T"
   ]
  },
  {
   "cell_type": "code",
   "execution_count": 628,
   "metadata": {},
   "outputs": [],
   "source": [
    "odds['Percent of Correctly Predicted Games'] = (odds['# of Correctly Predicted Games']/314)*100"
   ]
  },
  {
   "cell_type": "code",
   "execution_count": 663,
   "metadata": {
    "scrolled": true
   },
   "outputs": [],
   "source": [
    "odds_bar = odds.drop(columns=['# of Correctly Predicted Games'])"
   ]
  },
  {
   "cell_type": "code",
   "execution_count": 698,
   "metadata": {},
   "outputs": [
    {
     "data": {
      "image/png": "[encoded data removed]",
      "text/plain": [
       "<Figure size 432x288 with 1 Axes>"
      ]
     },
     "metadata": {
      "needs_background": "light"
     },
     "output_type": "display_data"
    }
   ],
   "source": [
    "plt.bar(x=odds_bar.index,height=odds_bar['Percent of Correctly Predicted Games'],width=0.5,color=['blue','green','yellow','red'])\n",
    "plt.xticks(ticks=[0,1,2,3],labels=['Win-Loss%','Home Team Win','Goal Difference w/ HA','Ridge Regression'],rotation='vertical')\n",
    "plt.ylim((50,60))\n",
    "plt.ylabel('Percent of Games Accurately Predicted')\n",
    "plt.title('Accuracy of NBA Game Prediction Analyses')\n",
    "plt.savefig('cut_bar.png')\n",
    "plt.show()"
   ]
  },
  {
   "cell_type": "code",
   "execution_count": 661,
   "metadata": {},
   "outputs": [
    {
     "data": {
      "text/html": [
       "<div>\n",
       "<style scoped>\n",
       "    .dataframe tbody tr th:only-of-type {\n",
       "        vertical-align: middle;\n",
       "    }\n",
       "\n",
       "    .dataframe tbody tr th {\n",
       "        vertical-align: top;\n",
       "    }\n",
       "\n",
       "    .dataframe thead th {\n",
       "        text-align: right;\n",
       "    }\n",
       "</style>\n",
       "<table border=\"1\" class=\"dataframe\">\n",
       "  <thead>\n",
       "    <tr style=\"text-align: right;\">\n",
       "      <th></th>\n",
       "      <th>index</th>\n",
       "      <th>Win-Loss%</th>\n",
       "      <th>Home Team Win</th>\n",
       "      <th>Goal Difference with Home Advantage</th>\n",
       "      <th>Ridge Regression</th>\n",
       "    </tr>\n",
       "  </thead>\n",
       "  <tbody>\n",
       "    <tr>\n",
       "      <th>0</th>\n",
       "      <td>Percent of Correctly Predicted Games</td>\n",
       "      <td>56.050955</td>\n",
       "      <td>51.592357</td>\n",
       "      <td>52.866242</td>\n",
       "      <td>57.324841</td>\n",
       "    </tr>\n",
       "  </tbody>\n",
       "</table>\n",
       "</div>"
      ],
      "text/plain": [
       "                                  index  Win-Loss%  Home Team Win  \\\n",
       "0  Percent of Correctly Predicted Games  56.050955      51.592357   \n",
       "\n",
       "   Goal Difference with Home Advantage  Ridge Regression  \n",
       "0                            52.866242         57.324841  "
      ]
     },
     "execution_count": 661,
     "metadata": {},
     "output_type": "execute_result"
    }
   ],
   "source": [
    "odds_bar"
   ]
  },
  {
   "cell_type": "code",
   "execution_count": null,
   "metadata": {},
   "outputs": [],
   "source": []
  }
 ],
 "metadata": {
  "kernelspec": {
   "display_name": "Python 3",
   "language": "python",
   "name": "python3"
  },
  "language_info": {
   "codemirror_mode": {
    "name": "ipython",
    "version": 3
   },
   "file_extension": ".py",
   "mimetype": "text/x-python",
   "name": "python",
   "nbconvert_exporter": "python",
   "pygments_lexer": "ipython3",
   "version": "3.8.5"
  }
 },
 "nbformat": 4,
 "nbformat_minor": 4
}
