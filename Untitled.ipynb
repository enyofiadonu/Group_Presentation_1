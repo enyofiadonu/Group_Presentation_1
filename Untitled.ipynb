{
 "cells": [
  {
   "cell_type": "code",
   "execution_count": 85,
   "metadata": {},
   "outputs": [],
   "source": [
    "from nba_api.stats.static import teams"
   ]
  },
  {
   "cell_type": "code",
   "execution_count": 86,
   "metadata": {},
   "outputs": [],
   "source": [
    "nba_teams = teams.get_teams()\n",
    "# Select the dictionary for the Celtics, which contains their team ID\n",
    "nuggets = [team for team in nba_teams if team['abbreviation'] == 'DEN'][0]\n",
    "nuggets_id = nuggets['id']"
   ]
  },
  {
   "cell_type": "code",
   "execution_count": 100,
   "metadata": {},
   "outputs": [],
   "source": [
    "from nba_api.stats.endpoints import leaguegamefinder"
   ]
  },
  {
   "cell_type": "code",
   "execution_count": 139,
   "metadata": {},
   "outputs": [],
   "source": [
    "# Query for games where the Celtics were playing\n",
    "gamefinder = leaguegamefinder.LeagueGameFinder(team_id_nullable='1610612766')\n",
    "# The first DataFrame of those returned is what we want.\n",
    "hornets_games = gamefinder.get_data_frames()[0]\n",
    "hornets_games.to_csv('output_data/pistons_games.csv')"
   ]
  },
  {
   "cell_type": "code",
   "execution_count": 167,
   "metadata": {
    "scrolled": true
   },
   "outputs": [],
   "source": [
    "import pandas as pd"
   ]
  },
  {
   "cell_type": "code",
   "execution_count": 168,
   "metadata": {},
   "outputs": [],
   "source": [
    "a = pd.read_csv('output_data/76ers_games.csv')\n",
    "b = pd.read_csv('output_data/atlanta_games.csv')\n",
    "c = pd.read_csv('output_data/boston_games.csv')\n",
    "d = pd.read_csv('output_data/bucks_games.csv')\n",
    "e = pd.read_csv('output_data/bulls_games.csv')\n",
    "f = pd.read_csv('output_data/cavaliers_games.csv')\n",
    "g = pd.read_csv('output_data/clippers_games.csv')\n",
    "h = pd.read_csv('output_data/golden_state_games.csv')\n",
    "i = pd.read_csv('output_data/grizzlies_games.csv')\n",
    "j = pd.read_csv('output_data/heat_games.csv')\n",
    "k = pd.read_csv('output_data/jazz_games.csv')\n",
    "l = pd.read_csv('output_data/kings_games.csv')\n",
    "m = pd.read_csv('output_data/knicks_games.csv')\n",
    "n = pd.read_csv('output_data/lakers_games.csv')\n",
    "o = pd.read_csv('output_data/magic_games.csv')\n",
    "p = pd.read_csv('output_data/mavericks_games.csv')\n",
    "q = pd.read_csv('output_data/nets_games.csv')\n",
    "r = pd.read_csv('output_data/pacers_games.csv')\n",
    "s = pd.read_csv('output_data/pelicans_games.csv')\n",
    "t = pd.read_csv('output_data/pistons_games.csv')\n",
    "u = pd.read_csv('output_data/raptors_games.csv')\n",
    "v = pd.read_csv('output_data/rockets_games.csv')\n",
    "w = pd.read_csv('output_data/spurs_games.csv')\n",
    "x = pd.read_csv('output_data/suns_games.csv')\n",
    "y = pd.read_csv('output_data/thunder_games.csv')\n",
    "z = pd.read_csv('output_data/timberwolves_games.csv')\n",
    "aa = pd.read_csv('output_data/wizards_games.csv')"
   ]
  },
  {
   "cell_type": "code",
   "execution_count": 170,
   "metadata": {},
   "outputs": [],
   "source": [
    "a1 = a.loc[a['SEASON_ID'] == 22019,:]\n",
    "b1 = b.loc[b['SEASON_ID'] == 22019,:]\n",
    "c1 = c.loc[c['SEASON_ID'] == 22019,:]\n",
    "d1 = d.loc[d['SEASON_ID'] == 22019,:]\n",
    "e1 = e.loc[e['SEASON_ID'] == 22019,:]\n",
    "f1 = f.loc[f['SEASON_ID'] == 22019,:]\n",
    "g1 = g.loc[g['SEASON_ID'] == 22019,:]\n",
    "h1 = h.loc[h['SEASON_ID'] == 22019,:]\n",
    "i1 = i.loc[i['SEASON_ID'] == 22019,:]\n",
    "j1 = j.loc[j['SEASON_ID'] == 22019,:]\n",
    "k1 = k.loc[k['SEASON_ID'] == 22019,:]\n",
    "l1 = l.loc[l['SEASON_ID'] == 22019,:]\n",
    "m1 = m.loc[m['SEASON_ID'] == 22019,:]\n",
    "n1 = n.loc[n['SEASON_ID'] == 22019,:]\n",
    "o1 = o.loc[o['SEASON_ID'] == 22019,:]\n",
    "p1 = p.loc[p['SEASON_ID'] == 22019,:]\n",
    "q1 = q.loc[q['SEASON_ID'] == 22019,:]\n",
    "r1 = r.loc[r['SEASON_ID'] == 22019,:]\n",
    "s1 = s.loc[s['SEASON_ID'] == 22019,:]\n",
    "t1 = t.loc[t['SEASON_ID'] == 22019,:]\n",
    "u1 = u.loc[u['SEASON_ID'] == 22019,:]\n",
    "v1 = v.loc[v['SEASON_ID'] == 22019,:]\n",
    "w1 = w.loc[w['SEASON_ID'] == 22019,:]\n",
    "x1 = x.loc[x['SEASON_ID'] == 22019,:]\n",
    "y1 = y.loc[y['SEASON_ID'] == 22019,:]\n",
    "z1 = z.loc[z['SEASON_ID'] == 22019,:]\n",
    "aa1 = aa.loc[aa['SEASON_ID'] == 22019,:]"
   ]
  },
  {
   "cell_type": "code",
   "execution_count": 217,
   "metadata": {},
   "outputs": [],
   "source": [
    "lists = [a1,b1,c1,d1,e1,f1,g1,h1,i1,j1,k1,l1,m1,n1,o1,p1,q1,r1,s1,t1,u1,v1,w1,x1,y1,z1,aa1]\n",
    "season_2019 = pd.concat(lists)\n",
    "season_2019 = season_2019.drop(columns=['Unnamed: 0'])"
   ]
  },
  {
   "cell_type": "code",
   "execution_count": 219,
   "metadata": {},
   "outputs": [],
   "source": [
    "season_2019.to_csv('output_data/games_season2019.csv')"
   ]
  },
  {
   "cell_type": "code",
   "execution_count": 188,
   "metadata": {},
   "outputs": [],
   "source": [
    "import requests\n",
    "import json\n",
    "\n",
    "url = 'https://www.balldontlie.io/api/v1/games?seasons[]=2019'\n",
    "nba_games_2 = requests.get(url).json()"
   ]
  },
  {
   "cell_type": "code",
   "execution_count": 190,
   "metadata": {},
   "outputs": [],
   "source": [
    "with open('2019_games.json','w') as json_file:\n",
    "    json.dump(nba_games_2,json_file)"
   ]
  },
  {
   "cell_type": "code",
   "execution_count": 242,
   "metadata": {},
   "outputs": [],
   "source": [
    "oct_games = pd.read_csv('output_data/october_nba.txt')"
   ]
  },
  {
   "cell_type": "code",
   "execution_count": 224,
   "metadata": {},
   "outputs": [],
   "source": [
    "nov_games = pd.read_csv('output_data/nov_nba.txt')"
   ]
  },
  {
   "cell_type": "code",
   "execution_count": 225,
   "metadata": {},
   "outputs": [],
   "source": [
    "dec_games = pd.read_csv('output_data/dec_nba.txt')"
   ]
  },
  {
   "cell_type": "code",
   "execution_count": 227,
   "metadata": {},
   "outputs": [],
   "source": [
    "jan_games = pd.read_csv('output_data/jan_nba.txt')"
   ]
  },
  {
   "cell_type": "code",
   "execution_count": 228,
   "metadata": {},
   "outputs": [],
   "source": [
    "feb_games = pd.read_csv('output_data/feb_nba.txt')"
   ]
  },
  {
   "cell_type": "code",
   "execution_count": 229,
   "metadata": {},
   "outputs": [],
   "source": [
    "mar_games = pd.read_csv('output_data/mar_nba.txt')"
   ]
  },
  {
   "cell_type": "code",
   "execution_count": 230,
   "metadata": {},
   "outputs": [],
   "source": [
    "jul_games = pd.read_csv('output_data/jul_nba.txt')"
   ]
  },
  {
   "cell_type": "code",
   "execution_count": 231,
   "metadata": {},
   "outputs": [],
   "source": [
    "aug_games = pd.read_csv('output_data/aug_nba.txt')"
   ]
  },
  {
   "cell_type": "code",
   "execution_count": 232,
   "metadata": {},
   "outputs": [],
   "source": [
    "sep_games = pd.read_csv('output_data/sept_nba.txt')"
   ]
  },
  {
   "cell_type": "code",
   "execution_count": 243,
   "metadata": {},
   "outputs": [],
   "source": [
    "oct20_games = pd.read_csv('output_data/oct_nba.txt')"
   ]
  },
  {
   "cell_type": "code",
   "execution_count": 244,
   "metadata": {},
   "outputs": [],
   "source": [
    "listsss = [oct_games,nov_games,dec_games,jan_games,feb_games,mar_games,jul_games,aug_games,sep_games,oct20_games]\n",
    "simple_2019games = pd.concat(listsss,ignore_index=True)"
   ]
  },
  {
   "cell_type": "code",
   "execution_count": 246,
   "metadata": {},
   "outputs": [],
   "source": [
    "cleaned_2019games = simple_2019games.drop(columns=['Start (ET)','Unnamed: 6','Unnamed: 7','Attend.','Notes'])\n",
    "cleaned_2019games = cleaned_2019games.rename(columns={'Visitor/Neutral':'Visitor Team','PTS':'Visitor Pts','Home/Neutral':'Home Team','PTS.1':'Home Pts'})"
   ]
  },
  {
   "cell_type": "code",
   "execution_count": 249,
   "metadata": {},
   "outputs": [],
   "source": [
    "cleaned_2019games.to_csv('output_data/simple_2019season.csv')"
   ]
  },
  {
   "cell_type": "code",
   "execution_count": null,
   "metadata": {},
   "outputs": [],
   "source": []
  }
 ],
 "metadata": {
  "kernelspec": {
   "display_name": "Python 3",
   "language": "python",
   "name": "python3"
  },
  "language_info": {
   "codemirror_mode": {
    "name": "ipython",
    "version": 3
   },
   "file_extension": ".py",
   "mimetype": "text/x-python",
   "name": "python",
   "nbconvert_exporter": "python",
   "pygments_lexer": "ipython3",
   "version": "3.8.5"
  }
 },
 "nbformat": 4,
 "nbformat_minor": 4
}
